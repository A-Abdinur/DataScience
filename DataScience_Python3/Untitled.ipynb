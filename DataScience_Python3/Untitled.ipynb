{
 "cells": [
  {
   "cell_type": "code",
   "execution_count": 41,
   "metadata": {},
   "outputs": [],
   "source": [
    "import numpy as np\n",
    "import matplotlib"
   ]
  },
  {
   "cell_type": "code",
   "execution_count": 42,
   "metadata": {},
   "outputs": [
    {
     "data": {
      "text/plain": [
       "20030.64962758802"
      ]
     },
     "execution_count": 42,
     "metadata": {},
     "output_type": "execute_result"
    }
   ],
   "source": [
    "incomes =np.random.normal(20000, 1000, 10000)\n",
    "np.mean(incomes)"
   ]
  },
  {
   "cell_type": "code",
   "execution_count": 43,
   "metadata": {},
   "outputs": [
    {
     "data": {
      "text/plain": [
       "<function matplotlib.pyplot.show(*args, **kw)>"
      ]
     },
     "execution_count": 43,
     "metadata": {},
     "output_type": "execute_result"
    },
    {
     "data": {
      "image/png": "[encoded data removed]",
      "text/plain": [
       "<Figure size 432x288 with 1 Axes>"
      ]
     },
     "metadata": {
      "needs_background": "light"
     },
     "output_type": "display_data"
    }
   ],
   "source": [
    "%matplotlib inline\n",
    "import matplotlib.pyplot as plt\n",
    "plt.hist(incomes, 50)\n",
    "plt.show"
   ]
  },
  {
   "cell_type": "code",
   "execution_count": 44,
   "metadata": {},
   "outputs": [],
   "source": [
    "incomes = np.append(incomes, [199999000])"
   ]
  },
  {
   "cell_type": "code",
   "execution_count": 45,
   "metadata": {},
   "outputs": [
    {
     "data": {
      "text/plain": [
       "40026.546972890734"
      ]
     },
     "execution_count": 45,
     "metadata": {},
     "output_type": "execute_result"
    },
    {
     "data": {
      "image/png": "[encoded data removed]",
      "text/plain": [
       "<Figure size 432x288 with 1 Axes>"
      ]
     },
     "metadata": {
      "needs_background": "light"
     },
     "output_type": "display_data"
    }
   ],
   "source": [
    "plt.hist(incomes, 76)\n",
    "plt.show\n",
    "np.mean(incomes)"
   ]
  },
  {
   "cell_type": "code",
   "execution_count": 46,
   "metadata": {},
   "outputs": [
    {
     "name": "stdout",
     "output_type": "stream",
     "text": [
      "40026.546972890734\n",
      "20034.97381369351\n"
     ]
    }
   ],
   "source": [
    "print(np.mean(incomes))\n",
    "print(np.median(incomes))"
   ]
  },
  {
   "cell_type": "code",
   "execution_count": 58,
   "metadata": {},
   "outputs": [
    {
     "data": {
      "text/plain": [
       "array([52, 51, 58, 76, 22, 16, 80, 44, 58, 14, 89, 52, 70, 65, 84, 47, 62,\n",
       "       77, 51, 30, 43, 55, 14, 32, 77, 77, 24, 59, 14, 78, 63, 35, 36, 45,\n",
       "       27, 26, 25, 51, 73, 49, 19, 18, 86, 54, 63, 68, 82, 38, 10, 38, 27,\n",
       "       34, 65, 81, 39, 84, 80, 43, 37, 44, 25, 40, 12, 31, 38, 73, 89, 64,\n",
       "       52, 11, 25, 73, 17, 79, 12, 75, 19, 73, 25, 34, 17, 53, 37, 16, 85,\n",
       "       33, 39, 75, 34, 58, 53, 20, 14, 12, 81, 20, 14, 74, 42, 11, 81, 45,\n",
       "       32, 69, 56, 18, 67, 28, 53, 12, 44, 38, 41, 51, 37, 57, 79, 86, 10,\n",
       "       37, 55, 16, 79, 89, 35, 65, 58, 17, 80, 70, 53, 19, 12, 65, 53, 13,\n",
       "       29, 66, 89, 10, 15, 44, 44, 60, 72, 33, 35, 22, 10, 24, 15, 60, 44,\n",
       "       30, 57, 58, 79, 31, 52, 73, 49, 84, 15, 73, 37, 57, 84, 44, 12, 16,\n",
       "       20, 42, 83, 66, 24, 70, 53, 78, 63, 78, 65, 31, 23, 11, 26, 76, 39,\n",
       "       63, 59, 34, 21, 39, 15, 78, 74, 61, 53, 64, 72, 79, 45, 16, 18, 89,\n",
       "       25, 78, 42, 49, 34, 35, 83, 29, 72, 19, 16, 72, 70, 12, 87, 88, 25,\n",
       "       10, 36, 15, 58, 44, 57, 70, 23, 89, 19, 51, 25, 87, 58, 66, 34, 67,\n",
       "       15, 50, 70, 56, 80, 39, 58, 43, 60, 14, 60, 56, 31, 31, 11, 88, 29,\n",
       "       24, 58, 58, 33, 45, 37, 69, 50, 81, 16, 62, 44, 14, 40, 62, 48, 33,\n",
       "       22, 34, 62, 59, 73, 36, 84, 48, 54, 18, 24, 14, 76, 82, 10, 19, 49,\n",
       "       72, 71, 60, 40, 31, 57, 36, 17, 30, 38, 49, 30, 16, 37, 58, 61, 49,\n",
       "       33, 61, 30, 64, 70, 30, 84, 28, 23, 51, 47, 73, 69, 37, 50, 84, 45,\n",
       "       41, 78, 74, 44, 22, 82, 12, 54, 29, 22, 20, 46, 59, 44, 50, 34, 22,\n",
       "       51, 64, 88, 14, 16, 17, 79, 24, 63, 35, 48, 58, 77, 14, 76, 62, 39,\n",
       "       46, 81, 31, 25, 82, 35, 59, 29, 34, 23, 30, 48, 35, 61, 56, 79, 74,\n",
       "       54, 19, 37, 28, 78, 68, 59, 62, 63, 12, 75, 10, 85, 55, 24, 45, 60,\n",
       "       27, 22, 60, 83, 16, 82, 66, 83, 74, 45, 83, 11, 12, 59, 79, 30, 19,\n",
       "       24, 56, 34, 36, 53, 39, 17, 34, 16, 29, 16, 59, 84, 74, 58, 38, 74,\n",
       "       88, 80, 33, 42, 50, 28, 58, 21, 87, 82, 45, 70, 28, 42, 22, 27, 27,\n",
       "       42, 10, 13, 88, 50, 47, 84, 69, 68, 36, 39, 58, 48, 46, 88, 85, 64,\n",
       "       79, 15, 49, 78, 82, 14, 15, 43, 83, 41, 79, 23, 58, 14, 64, 19, 66,\n",
       "       65, 68, 80, 66, 70, 11, 79, 27, 80, 29, 38, 81, 89, 52, 57, 58, 40,\n",
       "       77, 27, 15, 83, 40, 59, 74])"
      ]
     },
     "execution_count": 58,
     "metadata": {},
     "output_type": "execute_result"
    }
   ],
   "source": [
    "ages = np.random.randint(10,90, size=500)\n",
    "ages"
   ]
  },
  {
   "cell_type": "code",
   "execution_count": 59,
   "metadata": {},
   "outputs": [
    {
     "data": {
      "text/plain": [
       "ModeResult(mode=array([58]), count=array([17]))"
      ]
     },
     "execution_count": 59,
     "metadata": {},
     "output_type": "execute_result"
    }
   ],
   "source": [
    "from scipy import stats\n",
    "stats.mode(ages)"
   ]
  },
  {
   "cell_type": "code",
   "execution_count": null,
   "metadata": {},
   "outputs": [],
   "source": []
  }
 ],
 "metadata": {
  "kernelspec": {
   "display_name": "Python 3",
   "language": "python",
   "name": "python3"
  },
  "language_info": {
   "codemirror_mode": {
    "name": "ipython",
    "version": 3
   },
   "file_extension": ".py",
   "mimetype": "text/x-python",
   "name": "python",
   "nbconvert_exporter": "python",
   "pygments_lexer": "ipython3",
   "version": "3.6.8"
  }
 },
 "nbformat": 4,
 "nbformat_minor": 2
}
